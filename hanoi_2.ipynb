{
 "cells": [
  {
   "cell_type": "markdown",
   "metadata": {},
   "source": [
    "# DI challenge q1\n",
    "\n",
    "Overall view\n",
    "\n",
    "1. Matrix to represent status of the towers\n",
    "2. At each step, methods to search available moves\n",
    "3. Iteration to perform moves\n",
    "4. Methods to determine conversion\n",
    "5. Output\n",
    "\n",
    "6'. time count\n"
   ]
  },
  {
   "cell_type": "code",
   "execution_count": 45,
   "metadata": {
    "collapsed": true
   },
   "outputs": [],
   "source": [
    "import numpy as np\n",
    "import os\n",
    "import random"
   ]
  },
  {
   "cell_type": "code",
   "execution_count": 387,
   "metadata": {},
   "outputs": [],
   "source": [
    "class TowerMatrix:\n",
    "    \"\"\"Matrix to represent status of the tower\"\"\"\n",
    "    def __init__(self,**kwargs):\n",
    "        self.M, self.N = 3,3\n",
    "        #matrix(M,N), M number of stacks, N number of disks\n",
    "        if 'M' in kwargs:\n",
    "            self.M = kwargs['M']\n",
    "        if 'N' in kwargs:\n",
    "            self.N = kwargs['N']\n",
    "        self.status = np.zeros((self.M,self.N))\n",
    "        self.status[0] = np.arange(1,self.N+1)\n",
    "        self.denominator =  (1+self.N)*self.N/2.0\n",
    "        self.PossibleMove = []\n",
    "        #print(self.status[0])\n",
    "        #print(self.status)\n",
    "    def reset(self):\n",
    "        \"\"\"reset matrix to initial status\"\"\"\n",
    "        self.status = np.zeros((self.M,self.N))\n",
    "        self.status[0] = np.arange(1,self.N+1)       \n",
    "    def move(self):\n",
    "        \"\"\"general method for move\n",
    "            output self.status after move\"\"\"\n",
    "        #generate available move list\n",
    "        self.SearchMove()\n",
    "        #randomly chooseone\n",
    "        #move_pair = random.SystemRandom().choice(self.PossibleMove)\n",
    "        move_pair = self.PossibleMove[np.random.choice(len(self.PossibleMove))]\n",
    "        self.move_by_pair(move_pair)\n",
    "    \n",
    "    def move_by_pair(self, move_pair):\n",
    "        self.status[move_pair[0]], self.status[move_pair[1]] = self.status[move_pair[1]], self.status[move_pair[0]]\n",
    "        \n",
    "    def SearchMove(self):\n",
    "        self.PossibleMove = []\n",
    "        \"\"\"method to search movesm, return a \"\"\"\n",
    "        #current_disk,current_index = self.TopDisk(self.status[0])\n",
    "        next_disk,next_index = self.TopDisk(self.status[0])\n",
    "        #disk_to_move = self.Compare(current_disk,current_index,next_disk,next_index)\n",
    "        #if disk_to_move == 1:\n",
    "        #    self.PossibleMove.append([(0,current_index),(1,next_index-1)])\n",
    "        #if disk_to_move == 2:\n",
    "        #    self.PossibleMove.append([(0,current_index-1),(1,next_index)])\n",
    "        for i in range(self.M-1):\n",
    "            current_disk,current_index = next_disk,next_index \n",
    "            next_disk,next_index = self.TopDisk(self.status[i+1])\n",
    "            disk_to_move = self.Compare(current_disk,next_disk)\n",
    "            #print i\n",
    "            if disk_to_move == 1:\n",
    "                self.PossibleMove.append([(i,current_index),(i+1,next_index-1)])\n",
    "            if disk_to_move == 2:\n",
    "                self.PossibleMove.append([(i,current_index-1),(i+1,next_index)])\n",
    "                \n",
    "    def TopDisk(self, stack):\n",
    "        \"\"\"method to generate top disk and its index for one stack, return as diskmass,index; if no disk return 0, self.N\"\"\"\n",
    "        disk_mass = 0\n",
    "        index = self.N\n",
    "        for i in range(self.N):\n",
    "            if stack[i] != 0:\n",
    "                index = i\n",
    "                disk_mass = stack[i]\n",
    "                break\n",
    "        return disk_mass,index\n",
    "    \n",
    "    def Compare(self,disk_mass1,disk_mass2):\n",
    "        \"\"\"Method to compare two stack top, return '0' for no swapping, '1' for 1 to 2, '2' for 2 to 1\"\"\"\n",
    "        if disk_mass1 + disk_mass2 == 0:\n",
    "            return 0\n",
    "        else:\n",
    "            if disk_mass1*disk_mass2 == 0:\n",
    "                if disk_mass1 == 0:\n",
    "                    return 2\n",
    "                if disk_mass2 == 0:\n",
    "                    return 1\n",
    "            else:\n",
    "                if disk_mass1 > disk_mass2:\n",
    "                    return 2\n",
    "                else:\n",
    "                    return 1\n",
    "                \n",
    "    def COM(self):\n",
    "        \"\"\"Calculate COM\"\"\"\n",
    "        numerator = 0.0\n",
    "        for i in range(self.M):\n",
    "            numerator += (i+1.0) * np.sum(self.status[i])\n",
    "        return  numerator/self.denominator\n",
    "    \n",
    "    def set_status(self,status):\n",
    "        self.status = status\n"
   ]
  },
  {
   "cell_type": "code",
   "execution_count": 388,
   "metadata": {},
   "outputs": [
    {
     "name": "stdout",
     "output_type": "stream",
     "text": [
      "T= 0\n",
      "1 1\n",
      "next_tower [[ 1.  2.  3.]\n",
      " [ 0.  0.  0.]\n",
      " [ 0.  0.  0.]]\n",
      "pair =  [(0, 0), (1, 2)]\n",
      "status before = [[ 1.  2.  3.]\n",
      " [ 0.  0.  0.]\n",
      " [ 0.  0.  0.]]\n",
      "status after = [[ 0.  2.  3.]\n",
      " [ 0.  0.  1.]\n",
      " [ 0.  0.  0.]]\n",
      "status temp = [[ 0.  2.  3.]\n",
      " [ 0.  0.  1.]\n",
      " [ 0.  0.  0.]]\n",
      "T= 1\n",
      "1 1\n",
      "next_tower [[ 0.  2.  3.]\n",
      " [ 0.  0.  1.]\n",
      " [ 0.  0.  0.]]\n",
      "pair =  [(0, 0), (1, 2)]\n",
      "status before = [[ 0.  2.  3.]\n",
      " [ 0.  0.  1.]\n",
      " [ 0.  0.  0.]]\n",
      "status after = [[ 1.  2.  3.]\n",
      " [ 0.  0.  0.]\n",
      " [ 0.  0.  0.]]\n",
      "status temp = [[ 1.  2.  3.]\n",
      " [ 0.  0.  0.]\n",
      " [ 0.  0.  0.]]\n",
      "pair =  [(1, 2), (2, 2)]\n",
      "status before = [[ 1.  2.  3.]\n",
      " [ 0.  0.  0.]\n",
      " [ 0.  0.  0.]]\n",
      "status after = [[ 1.  2.  3.]\n",
      " [ 0.  0.  0.]\n",
      " [ 0.  0.  0.]]\n",
      "status temp = [[ 1.  2.  3.]\n",
      " [ 0.  0.  0.]\n",
      " [ 0.  0.  0.]]\n",
      "T= 2\n",
      "1 1\n",
      "next_tower [[ 1.  2.  3.]\n",
      " [ 0.  0.  0.]\n",
      " [ 0.  0.  0.]]\n",
      "pair =  [(0, 0), (1, 2)]\n",
      "status before = [[ 1.  2.  3.]\n",
      " [ 0.  0.  0.]\n",
      " [ 0.  0.  0.]]\n",
      "status after = [[ 0.  2.  3.]\n",
      " [ 0.  0.  1.]\n",
      " [ 0.  0.  0.]]\n",
      "status temp = [[ 0.  2.  3.]\n",
      " [ 0.  0.  1.]\n",
      " [ 0.  0.  0.]]\n",
      "T= 3\n",
      "1 1\n",
      "next_tower [[ 0.  2.  3.]\n",
      " [ 0.  0.  1.]\n",
      " [ 0.  0.  0.]]\n",
      "pair =  [(0, 0), (1, 2)]\n",
      "status before = [[ 0.  2.  3.]\n",
      " [ 0.  0.  1.]\n",
      " [ 0.  0.  0.]]\n",
      "status after = [[ 1.  2.  3.]\n",
      " [ 0.  0.  0.]\n",
      " [ 0.  0.  0.]]\n",
      "status temp = [[ 1.  2.  3.]\n",
      " [ 0.  0.  0.]\n",
      " [ 0.  0.  0.]]\n",
      "pair =  [(1, 2), (2, 2)]\n",
      "status before = [[ 1.  2.  3.]\n",
      " [ 0.  0.  0.]\n",
      " [ 0.  0.  0.]]\n",
      "status after = [[ 1.  2.  3.]\n",
      " [ 0.  0.  0.]\n",
      " [ 0.  0.  0.]]\n",
      "status temp = [[ 1.  2.  3.]\n",
      " [ 0.  0.  0.]\n",
      " [ 0.  0.  0.]]\n",
      "T= 4\n",
      "1 1\n",
      "next_tower [[ 1.  2.  3.]\n",
      " [ 0.  0.  0.]\n",
      " [ 0.  0.  0.]]\n",
      "pair =  [(0, 0), (1, 2)]\n",
      "status before = [[ 1.  2.  3.]\n",
      " [ 0.  0.  0.]\n",
      " [ 0.  0.  0.]]\n",
      "status after = [[ 0.  2.  3.]\n",
      " [ 0.  0.  1.]\n",
      " [ 0.  0.  0.]]\n",
      "status temp = [[ 0.  2.  3.]\n",
      " [ 0.  0.  1.]\n",
      " [ 0.  0.  0.]]\n",
      "T= 5\n",
      "1 1\n",
      "next_tower [[ 0.  2.  3.]\n",
      " [ 0.  0.  1.]\n",
      " [ 0.  0.  0.]]\n",
      "pair =  [(0, 0), (1, 2)]\n",
      "status before = [[ 0.  2.  3.]\n",
      " [ 0.  0.  1.]\n",
      " [ 0.  0.  0.]]\n",
      "status after = [[ 1.  2.  3.]\n",
      " [ 0.  0.  0.]\n",
      " [ 0.  0.  0.]]\n",
      "status temp = [[ 1.  2.  3.]\n",
      " [ 0.  0.  0.]\n",
      " [ 0.  0.  0.]]\n",
      "pair =  [(1, 2), (2, 2)]\n",
      "status before = [[ 1.  2.  3.]\n",
      " [ 0.  0.  0.]\n",
      " [ 0.  0.  0.]]\n",
      "status after = [[ 1.  2.  3.]\n",
      " [ 0.  0.  0.]\n",
      " [ 0.  0.  0.]]\n",
      "status temp = [[ 1.  2.  3.]\n",
      " [ 0.  0.  0.]\n",
      " [ 0.  0.  0.]]\n",
      "T= 6\n",
      "1 1\n",
      "next_tower [[ 1.  2.  3.]\n",
      " [ 0.  0.  0.]\n",
      " [ 0.  0.  0.]]\n",
      "pair =  [(0, 0), (1, 2)]\n",
      "status before = [[ 1.  2.  3.]\n",
      " [ 0.  0.  0.]\n",
      " [ 0.  0.  0.]]\n",
      "status after = [[ 0.  2.  3.]\n",
      " [ 0.  0.  1.]\n",
      " [ 0.  0.  0.]]\n",
      "status temp = [[ 0.  2.  3.]\n",
      " [ 0.  0.  1.]\n",
      " [ 0.  0.  0.]]\n",
      "T= 7\n",
      "1 1\n",
      "next_tower [[ 0.  2.  3.]\n",
      " [ 0.  0.  1.]\n",
      " [ 0.  0.  0.]]\n",
      "pair =  [(0, 0), (1, 2)]\n",
      "status before = [[ 0.  2.  3.]\n",
      " [ 0.  0.  1.]\n",
      " [ 0.  0.  0.]]\n",
      "status after = [[ 1.  2.  3.]\n",
      " [ 0.  0.  0.]\n",
      " [ 0.  0.  0.]]\n",
      "status temp = [[ 1.  2.  3.]\n",
      " [ 0.  0.  0.]\n",
      " [ 0.  0.  0.]]\n",
      "pair =  [(1, 2), (2, 2)]\n",
      "status before = [[ 1.  2.  3.]\n",
      " [ 0.  0.  0.]\n",
      " [ 0.  0.  0.]]\n",
      "status after = [[ 1.  2.  3.]\n",
      " [ 0.  0.  0.]\n",
      " [ 0.  0.  0.]]\n",
      "status temp = [[ 1.  2.  3.]\n",
      " [ 0.  0.  0.]\n",
      " [ 0.  0.  0.]]\n",
      "T= 8\n",
      "1 1\n",
      "next_tower [[ 1.  2.  3.]\n",
      " [ 0.  0.  0.]\n",
      " [ 0.  0.  0.]]\n",
      "pair =  [(0, 0), (1, 2)]\n",
      "status before = [[ 1.  2.  3.]\n",
      " [ 0.  0.  0.]\n",
      " [ 0.  0.  0.]]\n",
      "status after = [[ 0.  2.  3.]\n",
      " [ 0.  0.  1.]\n",
      " [ 0.  0.  0.]]\n",
      "status temp = [[ 0.  2.  3.]\n",
      " [ 0.  0.  1.]\n",
      " [ 0.  0.  0.]]\n",
      "T= 9\n",
      "1 1\n",
      "next_tower [[ 0.  2.  3.]\n",
      " [ 0.  0.  1.]\n",
      " [ 0.  0.  0.]]\n",
      "pair =  [(0, 0), (1, 2)]\n",
      "status before = [[ 0.  2.  3.]\n",
      " [ 0.  0.  1.]\n",
      " [ 0.  0.  0.]]\n",
      "status after = [[ 1.  2.  3.]\n",
      " [ 0.  0.  0.]\n",
      " [ 0.  0.  0.]]\n",
      "status temp = [[ 1.  2.  3.]\n",
      " [ 0.  0.  0.]\n",
      " [ 0.  0.  0.]]\n",
      "pair =  [(1, 2), (2, 2)]\n",
      "status before = [[ 1.  2.  3.]\n",
      " [ 0.  0.  0.]\n",
      " [ 0.  0.  0.]]\n",
      "status after = [[ 1.  2.  3.]\n",
      " [ 0.  0.  0.]\n",
      " [ 0.  0.  0.]]\n",
      "status temp = [[ 1.  2.  3.]\n",
      " [ 0.  0.  0.]\n",
      " [ 0.  0.  0.]]\n",
      "T= 10\n",
      "1 1\n",
      "next_tower [[ 1.  2.  3.]\n",
      " [ 0.  0.  0.]\n",
      " [ 0.  0.  0.]]\n",
      "pair =  [(0, 0), (1, 2)]\n",
      "status before = [[ 1.  2.  3.]\n",
      " [ 0.  0.  0.]\n",
      " [ 0.  0.  0.]]\n",
      "status after = [[ 0.  2.  3.]\n",
      " [ 0.  0.  1.]\n",
      " [ 0.  0.  0.]]\n",
      "status temp = [[ 0.  2.  3.]\n",
      " [ 0.  0.  1.]\n",
      " [ 0.  0.  0.]]\n",
      "T= 11\n",
      "1 1\n",
      "next_tower [[ 0.  2.  3.]\n",
      " [ 0.  0.  1.]\n",
      " [ 0.  0.  0.]]\n",
      "pair =  [(0, 0), (1, 2)]\n",
      "status before = [[ 0.  2.  3.]\n",
      " [ 0.  0.  1.]\n",
      " [ 0.  0.  0.]]\n",
      "status after = [[ 1.  2.  3.]\n",
      " [ 0.  0.  0.]\n",
      " [ 0.  0.  0.]]\n",
      "status temp = [[ 1.  2.  3.]\n",
      " [ 0.  0.  0.]\n",
      " [ 0.  0.  0.]]\n",
      "pair =  [(1, 2), (2, 2)]\n",
      "status before = [[ 1.  2.  3.]\n",
      " [ 0.  0.  0.]\n",
      " [ 0.  0.  0.]]\n",
      "status after = [[ 1.  2.  3.]\n",
      " [ 0.  0.  0.]\n",
      " [ 0.  0.  0.]]\n",
      "status temp = [[ 1.  2.  3.]\n",
      " [ 0.  0.  0.]\n",
      " [ 0.  0.  0.]]\n",
      "T= 12\n",
      "1 1\n",
      "next_tower [[ 1.  2.  3.]\n",
      " [ 0.  0.  0.]\n",
      " [ 0.  0.  0.]]\n",
      "pair =  [(0, 0), (1, 2)]\n",
      "status before = [[ 1.  2.  3.]\n",
      " [ 0.  0.  0.]\n",
      " [ 0.  0.  0.]]\n",
      "status after = [[ 0.  2.  3.]\n",
      " [ 0.  0.  1.]\n",
      " [ 0.  0.  0.]]\n",
      "status temp = [[ 0.  2.  3.]\n",
      " [ 0.  0.  1.]\n",
      " [ 0.  0.  0.]]\n",
      "T= 13\n",
      "1 1\n",
      "next_tower [[ 0.  2.  3.]\n",
      " [ 0.  0.  1.]\n",
      " [ 0.  0.  0.]]\n",
      "pair =  [(0, 0), (1, 2)]\n",
      "status before = [[ 0.  2.  3.]\n",
      " [ 0.  0.  1.]\n",
      " [ 0.  0.  0.]]\n",
      "status after = [[ 1.  2.  3.]\n",
      " [ 0.  0.  0.]\n",
      " [ 0.  0.  0.]]\n",
      "status temp = [[ 1.  2.  3.]\n",
      " [ 0.  0.  0.]\n",
      " [ 0.  0.  0.]]\n",
      "pair =  [(1, 2), (2, 2)]\n",
      "status before = [[ 1.  2.  3.]\n",
      " [ 0.  0.  0.]\n",
      " [ 0.  0.  0.]]\n",
      "status after = [[ 1.  2.  3.]\n",
      " [ 0.  0.  0.]\n",
      " [ 0.  0.  0.]]\n",
      "status temp = [[ 1.  2.  3.]\n",
      " [ 0.  0.  0.]\n",
      " [ 0.  0.  0.]]\n",
      "T= 14\n",
      "1 1\n",
      "next_tower [[ 1.  2.  3.]\n",
      " [ 0.  0.  0.]\n",
      " [ 0.  0.  0.]]\n",
      "pair =  [(0, 0), (1, 2)]\n",
      "status before = [[ 1.  2.  3.]\n",
      " [ 0.  0.  0.]\n",
      " [ 0.  0.  0.]]\n",
      "status after = [[ 0.  2.  3.]\n",
      " [ 0.  0.  1.]\n",
      " [ 0.  0.  0.]]\n",
      "status temp = [[ 0.  2.  3.]\n",
      " [ 0.  0.  1.]\n",
      " [ 0.  0.  0.]]\n",
      "T= 15\n",
      "1 1\n",
      "next_tower [[ 0.  2.  3.]\n",
      " [ 0.  0.  1.]\n",
      " [ 0.  0.  0.]]\n",
      "pair =  [(0, 0), (1, 2)]\n",
      "status before = [[ 0.  2.  3.]\n",
      " [ 0.  0.  1.]\n",
      " [ 0.  0.  0.]]\n",
      "status after = [[ 1.  2.  3.]\n",
      " [ 0.  0.  0.]\n",
      " [ 0.  0.  0.]]\n",
      "status temp = [[ 1.  2.  3.]\n",
      " [ 0.  0.  0.]\n",
      " [ 0.  0.  0.]]\n",
      "pair =  [(1, 2), (2, 2)]\n",
      "status before = [[ 1.  2.  3.]\n",
      " [ 0.  0.  0.]\n",
      " [ 0.  0.  0.]]\n",
      "status after = [[ 1.  2.  3.]\n",
      " [ 0.  0.  0.]\n",
      " [ 0.  0.  0.]]\n",
      "status temp = [[ 1.  2.  3.]\n",
      " [ 0.  0.  0.]\n",
      " [ 0.  0.  0.]]\n",
      "1.0 0.0\n"
     ]
    }
   ],
   "source": [
    "#New thoughts, calculate probability \n",
    "M=3\n",
    "N=3\n",
    "Initial = TowerMatrix(M=M,N=N)\n",
    "T = 16\n",
    "\n",
    "Stat_list_next = [Initial.status]\n",
    "\n",
    "Prob_list_next = [1.0]\n",
    "\n",
    "temp_tower = TowerMatrix(M=M,N=N)\n",
    "next_tower = TowerMatrix(M=M,N=N)\n",
    "for i in range(T):\n",
    "    Stat_list = Stat_list_next\n",
    "    Prob_list = Prob_list_next\n",
    "    Stat_list_next = []\n",
    "    Prob_list_next = []\n",
    "    #loop over status\n",
    "    print (\"T=\",i)\n",
    "    print (len(Stat_list),len(Prob_list))\n",
    "    for state, prob in zip(Stat_list,Prob_list):\n",
    "        temp_tower.reset()\n",
    "        temp_tower.set_status(state)\n",
    "        print(\"next_tower\",state)\n",
    "        #print(\"COM\",temp_tower.COM())\n",
    "        temp_tower.SearchMove()\n",
    "        temp_prob = float(Prob_list[j])/float(len(temp_tower.PossibleMove))\n",
    "        #print (\"state = \" ,state)\n",
    "        #loop over possible moves, saved to next \n",
    "        for pair in temp_tower.PossibleMove:\n",
    "            print(\"pair = \",pair)\n",
    "\n",
    "            next_tower.reset()\n",
    "            next_tower.set_status(state)\n",
    "\n",
    "            print(\"status before =\",next_tower.status) \n",
    "        \n",
    "            next_tower.move_by_pair(pair)\n",
    "            print(\"status after =\",next_tower.status)\n",
    "            print(\"status temp =\",temp_tower.status)\n",
    "            if next_tower.status in Stat_list_next:\n",
    "                #print(\"yes\")\n",
    "                Prob_list_next[Stat_list_next.index(next_tower.status)] += temp_prob\n",
    "            else:\n",
    "                #print(\"no\")\n",
    "                #print (len(Stat_list_next))\n",
    "                Stat_list_next.append(next_tower.status)\n",
    "                Prob_list_next.append(temp_prob)\n",
    "                #print (len(Stat_list_next))\n",
    "com_list = []\n",
    "for state in Stat_list_next:\n",
    "    temp_tower = Initial\n",
    "    temp_tower.set_status(state)\n",
    "    com_list.append(temp_tower.COM())\n",
    "\n",
    "ave = 0.0\n",
    "px2 = 0.0\n",
    "p2x2 = 0.0\n",
    "#print (com_list)\n",
    "#print(Prob_list_next)\n",
    "for com, prob in zip(com_list,Prob_list_next):\n",
    "    ave += com*prob\n",
    "    px2 += prob*com**2\n",
    "    p2x2 += (prob*com)**2\n",
    "std = (px2-p2x2)**0.5\n",
    "print (ave,std)"
   ]
  },
  {
   "cell_type": "code",
   "execution_count": 377,
   "metadata": {
    "scrolled": true
   },
   "outputs": [
    {
     "name": "stdout",
     "output_type": "stream",
     "text": [
      "1.42666666667\n",
      "0.316508732546\n"
     ]
    }
   ],
   "source": [
    "#iteration for 10000 times\n",
    "\n",
    "results = []\n",
    "n = 100\n",
    "T = 16\n",
    "M3N3 = TowerMatrix(M=3,N=3)\n",
    "#d = [M3N3,M3N3]\n",
    "\n",
    "#d[1].move()\n",
    "#print(d[1].status, d[0].status)\n",
    "\n",
    "#e = TowerMatrix(M=3,N=3)\n",
    "\n",
    "#if e in d:\n",
    "#    print(a)\n",
    "#ad = []\n",
    "#pd = []\n",
    "#ad.append(M3N3.status)\n",
    "#pd.append(M3N3.COM())\n",
    "\n",
    "#M3N3.move()\n",
    "# ad.append(M3N3.status)\n",
    "# pd.append(M3N3.COM())\n",
    "# print(ad)\n",
    "# print(pd)\n",
    "\n",
    "\n",
    "\n",
    "# for i in range(100):\n",
    "#     M3N3.move()\n",
    "#     if M3N3.status in ad:\n",
    "#         print (ad.index(M3N3.status))\n",
    "\n",
    "for i in range(n):\n",
    "   M3N3.reset()\n",
    "   for j in range(T):\n",
    "       M3N3.move()\n",
    "       #print(M3N3.COM())\n",
    "   results.append(M3N3.COM())\n",
    "print(np.mean(results))  \n",
    "print(np.std(results))\n"
   ]
  },
  {
   "cell_type": "code",
   "execution_count": 378,
   "metadata": {
    "scrolled": true
   },
   "outputs": [
    {
     "name": "stdout",
     "output_type": "stream",
     "text": [
      "1.16666666667\n",
      "1.0\n"
     ]
    }
   ],
   "source": [
    "#test, successful\n",
    "a =TowerMatrix(M=3,N=3)\n",
    "b =TowerMatrix(M=3,N=3)\n",
    "a.move()\n",
    "print(a.COM())\n",
    "print(b.COM())\n"
   ]
  },
  {
   "cell_type": "code",
   "execution_count": 297,
   "metadata": {},
   "outputs": [
    {
     "name": "stdout",
     "output_type": "stream",
     "text": [
      "1 a\n",
      "2 b\n",
      "3 4\n",
      "4 g\n"
     ]
    }
   ],
   "source": [
    "a = [1,2,3,4]\n",
    "c = [\"a\",\"b\",\"4\",\"g\"]\n",
    "for t,y in zip(a,c):\n",
    "    print(t,y)"
   ]
  },
  {
   "cell_type": "code",
   "execution_count": 128,
   "metadata": {
    "collapsed": true
   },
   "outputs": [],
   "source": [
    "c = [[(1,1),(2,2)],[(0,0),(0,0)],[(0,0),(0,1)],[(0,0),(0,2)]]"
   ]
  },
  {
   "cell_type": "code",
   "execution_count": 112,
   "metadata": {
    "collapsed": true
   },
   "outputs": [
    {
     "name": "stdout",
     "output_type": "stream",
     "text": [
      "[(0, 0), (0, 0)]\n",
      "[(0, 0), (0, 1)]\n",
      "[(0, 0), (0, 0)]\n",
      "[(0, 0), (0, 0)]\n",
      "[(1, 1), (2, 2)]\n",
      "[(0, 0), (0, 0)]\n",
      "[(1, 1), (2, 2)]\n",
      "[(0, 0), (0, 2)]\n",
      "[(1, 1), (2, 2)]\n",
      "[(1, 1), (2, 2)]\n",
      "[(0, 0), (0, 0)]\n",
      "[(0, 0), (0, 0)]\n",
      "[(0, 0), (0, 2)]\n",
      "[(0, 0), (0, 1)]\n",
      "[(0, 0), (0, 2)]\n",
      "[(0, 0), (0, 1)]\n",
      "[(0, 0), (0, 2)]\n",
      "[(1, 1), (2, 2)]\n",
      "[(0, 0), (0, 1)]\n",
      "[(0, 0), (0, 1)]\n",
      "[(1, 1), (2, 2)]\n",
      "[(1, 1), (2, 2)]\n",
      "[(0, 0), (0, 2)]\n",
      "[(0, 0), (0, 1)]\n",
      "[(0, 0), (0, 0)]\n",
      "[(0, 0), (0, 1)]\n",
      "[(0, 0), (0, 1)]\n",
      "[(1, 1), (2, 2)]\n",
      "[(0, 0), (0, 2)]\n",
      "[(0, 0), (0, 0)]\n",
      "[(1, 1), (2, 2)]\n",
      "[(1, 1), (2, 2)]\n",
      "[(0, 0), (0, 0)]\n",
      "[(0, 0), (0, 0)]\n",
      "[(1, 1), (2, 2)]\n",
      "[(0, 0), (0, 2)]\n",
      "[(1, 1), (2, 2)]\n",
      "[(1, 1), (2, 2)]\n",
      "[(0, 0), (0, 0)]\n",
      "[(0, 0), (0, 1)]\n",
      "[(1, 1), (2, 2)]\n",
      "[(0, 0), (0, 1)]\n",
      "[(0, 0), (0, 2)]\n",
      "[(0, 0), (0, 0)]\n",
      "[(0, 0), (0, 2)]\n",
      "[(0, 0), (0, 1)]\n",
      "[(0, 0), (0, 0)]\n",
      "[(0, 0), (0, 2)]\n",
      "[(0, 0), (0, 1)]\n",
      "[(1, 1), (2, 2)]\n",
      "[(0, 0), (0, 2)]\n",
      "[(0, 0), (0, 2)]\n",
      "[(0, 0), (0, 2)]\n",
      "[(1, 1), (2, 2)]\n",
      "[(0, 0), (0, 2)]\n",
      "[(0, 0), (0, 0)]\n",
      "[(0, 0), (0, 1)]\n",
      "[(1, 1), (2, 2)]\n",
      "[(0, 0), (0, 0)]\n",
      "[(0, 0), (0, 1)]\n",
      "[(0, 0), (0, 2)]\n",
      "[(0, 0), (0, 0)]\n",
      "[(0, 0), (0, 2)]\n",
      "[(0, 0), (0, 1)]\n",
      "[(0, 0), (0, 1)]\n",
      "[(0, 0), (0, 1)]\n",
      "[(1, 1), (2, 2)]\n",
      "[(0, 0), (0, 1)]\n",
      "[(0, 0), (0, 1)]\n",
      "[(0, 0), (0, 2)]\n",
      "[(0, 0), (0, 1)]\n",
      "[(0, 0), (0, 0)]\n",
      "[(1, 1), (2, 2)]\n",
      "[(0, 0), (0, 2)]\n",
      "[(0, 0), (0, 0)]\n",
      "[(0, 0), (0, 2)]\n",
      "[(0, 0), (0, 0)]\n",
      "[(0, 0), (0, 0)]\n",
      "[(0, 0), (0, 0)]\n",
      "[(1, 1), (2, 2)]\n",
      "[(0, 0), (0, 2)]\n",
      "[(0, 0), (0, 1)]\n",
      "[(0, 0), (0, 0)]\n",
      "[(0, 0), (0, 1)]\n",
      "[(1, 1), (2, 2)]\n",
      "[(0, 0), (0, 2)]\n",
      "[(1, 1), (2, 2)]\n",
      "[(0, 0), (0, 2)]\n",
      "[(1, 1), (2, 2)]\n",
      "[(0, 0), (0, 0)]\n",
      "[(0, 0), (0, 2)]\n",
      "[(1, 1), (2, 2)]\n",
      "[(0, 0), (0, 1)]\n",
      "[(0, 0), (0, 2)]\n",
      "[(0, 0), (0, 1)]\n",
      "[(0, 0), (0, 2)]\n",
      "[(0, 0), (0, 1)]\n",
      "[(0, 0), (0, 0)]\n",
      "[(0, 0), (0, 1)]\n",
      "[(0, 0), (0, 2)]\n"
     ]
    }
   ],
   "source": [
    "for i in range(100):\n",
    "    print(random.SystemRandom().choice(c))"
   ]
  },
  {
   "cell_type": "code",
   "execution_count": 113,
   "metadata": {
    "collapsed": true
   },
   "outputs": [],
   "source": [
    "def a():\n",
    "    print (c)"
   ]
  },
  {
   "cell_type": "code",
   "execution_count": 114,
   "metadata": {},
   "outputs": [
    {
     "data": {
      "text/plain": [
       "<function __main__.a>"
      ]
     },
     "execution_count": 114,
     "metadata": {},
     "output_type": "execute_result"
    }
   ],
   "source": [
    "a"
   ]
  },
  {
   "cell_type": "code",
   "execution_count": 115,
   "metadata": {},
   "outputs": [
    {
     "name": "stdout",
     "output_type": "stream",
     "text": [
      "[[(1, 1), (2, 2)], [(0, 0), (0, 0)], [(0, 0), (0, 1)], [(0, 0), (0, 2)]]\n"
     ]
    }
   ],
   "source": [
    "a()"
   ]
  },
  {
   "cell_type": "code",
   "execution_count": 116,
   "metadata": {},
   "outputs": [
    {
     "data": {
      "text/plain": [
       "[[(1, 1), (2, 2)], [(0, 0), (0, 0)], [(0, 0), (0, 1)], [(0, 0), (0, 2)]]"
      ]
     },
     "execution_count": 116,
     "metadata": {},
     "output_type": "execute_result"
    }
   ],
   "source": [
    "c"
   ]
  },
  {
   "cell_type": "code",
   "execution_count": 142,
   "metadata": {},
   "outputs": [
    {
     "name": "stdout",
     "output_type": "stream",
     "text": [
      "0.10000001\n"
     ]
    }
   ],
   "source": [
    "a = 0.10000001000100\n",
    "print(round(a,10))"
   ]
  },
  {
   "cell_type": "code",
   "execution_count": 143,
   "metadata": {},
   "outputs": [
    {
     "ename": "TypeError",
     "evalue": "unsupported operand type(s) for +: 'int' and 'list'",
     "output_type": "error",
     "traceback": [
      "\u001b[1;31m---------------------------------------------------------------------------\u001b[0m",
      "\u001b[1;31mTypeError\u001b[0m                                 Traceback (most recent call last)",
      "\u001b[1;32m<ipython-input-143-af6fce17fe35>\u001b[0m in \u001b[0;36m<module>\u001b[1;34m()\u001b[0m\n\u001b[1;32m----> 1\u001b[1;33m \u001b[0msum\u001b[0m\u001b[1;33m(\u001b[0m\u001b[0mc\u001b[0m\u001b[1;33m)\u001b[0m\u001b[1;33m\u001b[0m\u001b[0m\n\u001b[0m",
      "\u001b[1;31mTypeError\u001b[0m: unsupported operand type(s) for +: 'int' and 'list'"
     ]
    }
   ],
   "source": [
    "sum(c)"
   ]
  },
  {
   "cell_type": "code",
   "execution_count": 185,
   "metadata": {
    "collapsed": true
   },
   "outputs": [],
   "source": [
    "a = [1,2,3,4,5]"
   ]
  },
  {
   "cell_type": "code",
   "execution_count": 145,
   "metadata": {},
   "outputs": [
    {
     "data": {
      "text/plain": [
       "15"
      ]
     },
     "execution_count": 145,
     "metadata": {},
     "output_type": "execute_result"
    }
   ],
   "source": [
    "sum(a)"
   ]
  },
  {
   "cell_type": "code",
   "execution_count": 146,
   "metadata": {},
   "outputs": [
    {
     "data": {
      "text/plain": [
       "15"
      ]
     },
     "execution_count": 146,
     "metadata": {},
     "output_type": "execute_result"
    }
   ],
   "source": [
    "np.sum(a)"
   ]
  },
  {
   "cell_type": "code",
   "execution_count": 166,
   "metadata": {
    "collapsed": true
   },
   "outputs": [],
   "source": [
    "for i in range(1,1):\n",
    "    print(i)"
   ]
  },
  {
   "cell_type": "code",
   "execution_count": 199,
   "metadata": {},
   "outputs": [
    {
     "name": "stdout",
     "output_type": "stream",
     "text": [
      "0\n"
     ]
    }
   ],
   "source": [
    "print(np.random.choice(1))"
   ]
  },
  {
   "cell_type": "code",
   "execution_count": 273,
   "metadata": {
    "collapsed": true
   },
   "outputs": [],
   "source": [
    "a = np.zeros((6,6))"
   ]
  },
  {
   "cell_type": "code",
   "execution_count": 274,
   "metadata": {},
   "outputs": [],
   "source": [
    "a[0]=[1,2,3,4,5,6]"
   ]
  },
  {
   "cell_type": "code",
   "execution_count": 276,
   "metadata": {},
   "outputs": [],
   "source": [
    "a=[[1,2,3,4,5,6],[],[],[],[],[]]"
   ]
  },
  {
   "cell_type": "code",
   "execution_count": 277,
   "metadata": {},
   "outputs": [
    {
     "data": {
      "text/plain": [
       "[[1, 2, 3, 4, 5, 6], [], [], [], [], []]"
      ]
     },
     "execution_count": 277,
     "metadata": {},
     "output_type": "execute_result"
    }
   ],
   "source": [
    "a"
   ]
  },
  {
   "cell_type": "code",
   "execution_count": 278,
   "metadata": {
    "collapsed": true
   },
   "outputs": [],
   "source": [
    "a[0].remove(6)"
   ]
  },
  {
   "cell_type": "code",
   "execution_count": 279,
   "metadata": {},
   "outputs": [
    {
     "data": {
      "text/plain": [
       "[[1, 2, 3, 4, 5], [], [], [], [], []]"
      ]
     },
     "execution_count": 279,
     "metadata": {},
     "output_type": "execute_result"
    }
   ],
   "source": [
    "a"
   ]
  },
  {
   "cell_type": "code",
   "execution_count": 280,
   "metadata": {
    "collapsed": true
   },
   "outputs": [],
   "source": [
    "a[1].append(6)"
   ]
  },
  {
   "cell_type": "code",
   "execution_count": 281,
   "metadata": {},
   "outputs": [
    {
     "data": {
      "text/plain": [
       "[[1, 2, 3, 4, 5], [6], [], [], [], []]"
      ]
     },
     "execution_count": 281,
     "metadata": {},
     "output_type": "execute_result"
    }
   ],
   "source": [
    "a"
   ]
  },
  {
   "cell_type": "code",
   "execution_count": null,
   "metadata": {
    "collapsed": true
   },
   "outputs": [],
   "source": []
  }
 ],
 "metadata": {
  "kernelspec": {
   "display_name": "Python 3",
   "language": "python",
   "name": "python3"
  },
  "language_info": {
   "codemirror_mode": {
    "name": "ipython",
    "version": 3
   },
   "file_extension": ".py",
   "mimetype": "text/x-python",
   "name": "python",
   "nbconvert_exporter": "python",
   "pygments_lexer": "ipython3",
   "version": "3.6.1"
  }
 },
 "nbformat": 4,
 "nbformat_minor": 2
}
